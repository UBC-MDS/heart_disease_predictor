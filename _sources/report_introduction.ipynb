{
 "cells": [
  {
   "cell_type": "markdown",
   "id": "f5d6fe7e-8389-40bf-92df-b92245c8f6d7",
   "metadata": {
    "tags": []
   },
   "source": [
    "# Introduction"
   ]
  },
  {
   "cell_type": "markdown",
   "id": "af5383fd-2953-4988-b776-42f838d9b0f3",
   "metadata": {},
   "source": [
    "Responsible for 16% of the world's total deaths in 2019, heart disease is the world's leading cause of death according to the [World Health Organization](https://www.who.int/news-room/fact-sheets/detail/the-top-10-causes-of-death). The development of heart disease can not be contributed to a single factor in isolation, making early detection difficult given so many risk factors. \n",
    "\n",
    "The goal of this project is to predict the presence of heart disease based on common early signs and the [Heart Disease UCI](https://archive.ics.uci.edu/ml/datasets/heart+disease) dataset from the UC Irvine Machine Learning Repository to answer the question: given common early signs and physiological indicators, can we predict the presence of cardiac disease based on symptoms such as chest pain, blood pressure, or resting ECG? \n",
    "\n",
    "Responding to this question may aid in the early detection of heart disease and may help with earlier treatment, crucial to improving an individual's chances of survival. "
   ]
  }
 ],
 "metadata": {
  "kernelspec": {
   "display_name": "Python 3.10.6 64-bit",
   "language": "python",
   "name": "python3"
  },
  "language_info": {
   "codemirror_mode": {
    "name": "ipython",
    "version": 3
   },
   "file_extension": ".py",
   "mimetype": "text/x-python",
   "name": "python",
   "nbconvert_exporter": "python",
   "pygments_lexer": "ipython3",
   "version": "3.10.6"
  },
  "vscode": {
   "interpreter": {
    "hash": "b0fa6594d8f4cbf19f97940f81e996739fb7646882a419484c72d19e05852a7e"
   }
  }
 },
 "nbformat": 4,
 "nbformat_minor": 5
}
