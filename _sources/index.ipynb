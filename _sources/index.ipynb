{
 "cells": [
  {
   "cell_type": "markdown",
   "id": "6c414eaf-e201-4b72-a3dd-e83b9cd9bb95",
   "metadata": {},
   "source": [
    "# Predicting Heart Disease From Physiological Indicators  "
   ]
  },
  {
   "cell_type": "markdown",
   "id": "61dd08bd-12c3-49bd-b72e-bc823c8a8af6",
   "metadata": {},
   "source": [
    "*Authors: Natalie Cho, Yurui Feng, Elena Ganacheva, Tony Zoght; The University of British Columbia, Master of Data Science.*  \n",
    "_2022-11-24_"
   ]
  }
 ],
 "metadata": {
  "kernelspec": {
   "display_name": "Python 3.10.6 64-bit",
   "language": "python",
   "name": "python3"
  },
  "language_info": {
   "codemirror_mode": {
    "name": "ipython",
    "version": 3
   },
   "file_extension": ".py",
   "mimetype": "text/x-python",
   "name": "python",
   "nbconvert_exporter": "python",
   "pygments_lexer": "ipython3",
   "version": "3.10.6"
  },
  "vscode": {
   "interpreter": {
    "hash": "b0fa6594d8f4cbf19f97940f81e996739fb7646882a419484c72d19e05852a7e"
   }
  }
 },
 "nbformat": 4,
 "nbformat_minor": 5
}
